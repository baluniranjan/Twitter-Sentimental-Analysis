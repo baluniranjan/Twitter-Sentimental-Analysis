{
 "cells": [
  {
   "cell_type": "markdown",
   "id": "62c3f3c0",
   "metadata": {},
   "source": [
    "## Import Packages"
   ]
  },
  {
   "cell_type": "code",
   "execution_count": 1,
   "id": "a6fc5a1f",
   "metadata": {},
   "outputs": [
    {
     "name": "stderr",
     "output_type": "stream",
     "text": [
      "2023-04-17 11:25:53.622489: I tensorflow/core/platform/cpu_feature_guard.cc:182] This TensorFlow binary is optimized to use available CPU instructions in performance-critical operations.\n",
      "To enable the following instructions: AVX2 FMA, in other operations, rebuild TensorFlow with the appropriate compiler flags.\n",
      "2023-04-17 11:25:54.970550: W tensorflow/compiler/tf2tensorrt/utils/py_utils.cc:38] TF-TRT Warning: Could not find TensorRT\n"
     ]
    }
   ],
   "source": [
    "import numpy as np\n",
    "import pandas as pd\n",
    "import matplotlib.pyplot as plt\n",
    "import seaborn as sns\n",
    "import spacy\n",
    "import re\n",
    "import warnings \n",
    "warnings.filterwarnings('ignore')\n",
    "from tensorflow.keras.preprocessing.text import Tokenizer\n",
    "from tensorflow.keras.preprocessing.sequence import pad_sequences\n",
    "\n",
    "from sklearn.metrics import confusion_matrix\n",
    "from tensorflow.keras.models import Sequential\n",
    "from tensorflow.keras.layers import Dense, Embedding, LSTM, SpatialDropout1D"
   ]
  },
  {
   "cell_type": "markdown",
   "id": "81eb7905",
   "metadata": {},
   "source": [
    "## Import the dataset"
   ]
  },
  {
   "cell_type": "code",
   "execution_count": 2,
   "id": "c0b481fe",
   "metadata": {},
   "outputs": [],
   "source": [
    "df_train = pd.read_csv('train.csv',sep=',')\n",
    "df_train.text=df_train.text.astype(str)\n",
    "df_val = pd.read_csv('test.csv',sep=',')\n",
    "df_val.text=df_val.text.astype(str)"
   ]
  },
  {
   "cell_type": "markdown",
   "id": "8edf6b6b",
   "metadata": {},
   "source": [
    "## Data Pre-processing"
   ]
  },
  {
   "cell_type": "code",
   "execution_count": 3,
   "id": "290c3e16",
   "metadata": {},
   "outputs": [],
   "source": [
    "df = pd.concat([df_train.assign(index=\"train\"),df_val.assign(index=\"validation\")])\n"
   ]
  },
  {
   "cell_type": "code",
   "execution_count": 4,
   "id": "92f34ee7",
   "metadata": {},
   "outputs": [
    {
     "data": {
      "text/html": [
       "<div>\n",
       "<style scoped>\n",
       "    .dataframe tbody tr th:only-of-type {\n",
       "        vertical-align: middle;\n",
       "    }\n",
       "\n",
       "    .dataframe tbody tr th {\n",
       "        vertical-align: top;\n",
       "    }\n",
       "\n",
       "    .dataframe thead th {\n",
       "        text-align: right;\n",
       "    }\n",
       "</style>\n",
       "<table border=\"1\" class=\"dataframe\">\n",
       "  <thead>\n",
       "    <tr style=\"text-align: right;\">\n",
       "      <th></th>\n",
       "      <th>textID</th>\n",
       "      <th>text</th>\n",
       "      <th>selected_text</th>\n",
       "      <th>sentiment</th>\n",
       "      <th>index</th>\n",
       "    </tr>\n",
       "  </thead>\n",
       "  <tbody>\n",
       "    <tr>\n",
       "      <th>0</th>\n",
       "      <td>cb774db0d1</td>\n",
       "      <td>I`d have responded, if I were going</td>\n",
       "      <td>I`d have responded, if I were going</td>\n",
       "      <td>neutral</td>\n",
       "      <td>train</td>\n",
       "    </tr>\n",
       "    <tr>\n",
       "      <th>1</th>\n",
       "      <td>549e992a42</td>\n",
       "      <td>Sooo SAD I will miss you here in San Diego!!!</td>\n",
       "      <td>Sooo SAD</td>\n",
       "      <td>negative</td>\n",
       "      <td>train</td>\n",
       "    </tr>\n",
       "    <tr>\n",
       "      <th>2</th>\n",
       "      <td>088c60f138</td>\n",
       "      <td>my boss is bullying me...</td>\n",
       "      <td>bullying me</td>\n",
       "      <td>negative</td>\n",
       "      <td>train</td>\n",
       "    </tr>\n",
       "    <tr>\n",
       "      <th>3</th>\n",
       "      <td>9642c003ef</td>\n",
       "      <td>what interview! leave me alone</td>\n",
       "      <td>leave me alone</td>\n",
       "      <td>negative</td>\n",
       "      <td>train</td>\n",
       "    </tr>\n",
       "    <tr>\n",
       "      <th>4</th>\n",
       "      <td>358bd9e861</td>\n",
       "      <td>Sons of ****, why couldn`t they put them on t...</td>\n",
       "      <td>Sons of ****,</td>\n",
       "      <td>negative</td>\n",
       "      <td>train</td>\n",
       "    </tr>\n",
       "    <tr>\n",
       "      <th>...</th>\n",
       "      <td>...</td>\n",
       "      <td>...</td>\n",
       "      <td>...</td>\n",
       "      <td>...</td>\n",
       "      <td>...</td>\n",
       "    </tr>\n",
       "    <tr>\n",
       "      <th>3529</th>\n",
       "      <td>e5f0e6ef4b</td>\n",
       "      <td>its at 3 am, im very tired but i can`t sleep  ...</td>\n",
       "      <td>NaN</td>\n",
       "      <td>negative</td>\n",
       "      <td>validation</td>\n",
       "    </tr>\n",
       "    <tr>\n",
       "      <th>3530</th>\n",
       "      <td>416863ce47</td>\n",
       "      <td>All alone in this old house again.  Thanks for...</td>\n",
       "      <td>NaN</td>\n",
       "      <td>positive</td>\n",
       "      <td>validation</td>\n",
       "    </tr>\n",
       "    <tr>\n",
       "      <th>3531</th>\n",
       "      <td>6332da480c</td>\n",
       "      <td>I know what you mean. My little dog is sinkin...</td>\n",
       "      <td>NaN</td>\n",
       "      <td>negative</td>\n",
       "      <td>validation</td>\n",
       "    </tr>\n",
       "    <tr>\n",
       "      <th>3532</th>\n",
       "      <td>df1baec676</td>\n",
       "      <td>_sutra what is your next youtube video gonna b...</td>\n",
       "      <td>NaN</td>\n",
       "      <td>positive</td>\n",
       "      <td>validation</td>\n",
       "    </tr>\n",
       "    <tr>\n",
       "      <th>3533</th>\n",
       "      <td>469e15c5a8</td>\n",
       "      <td>http://twitpic.com/4woj2 - omgssh  ang cute n...</td>\n",
       "      <td>NaN</td>\n",
       "      <td>positive</td>\n",
       "      <td>validation</td>\n",
       "    </tr>\n",
       "  </tbody>\n",
       "</table>\n",
       "<p>31015 rows × 5 columns</p>\n",
       "</div>"
      ],
      "text/plain": [
       "          textID                                               text  \\\n",
       "0     cb774db0d1                I`d have responded, if I were going   \n",
       "1     549e992a42      Sooo SAD I will miss you here in San Diego!!!   \n",
       "2     088c60f138                          my boss is bullying me...   \n",
       "3     9642c003ef                     what interview! leave me alone   \n",
       "4     358bd9e861   Sons of ****, why couldn`t they put them on t...   \n",
       "...          ...                                                ...   \n",
       "3529  e5f0e6ef4b  its at 3 am, im very tired but i can`t sleep  ...   \n",
       "3530  416863ce47  All alone in this old house again.  Thanks for...   \n",
       "3531  6332da480c   I know what you mean. My little dog is sinkin...   \n",
       "3532  df1baec676  _sutra what is your next youtube video gonna b...   \n",
       "3533  469e15c5a8   http://twitpic.com/4woj2 - omgssh  ang cute n...   \n",
       "\n",
       "                            selected_text sentiment       index  \n",
       "0     I`d have responded, if I were going   neutral       train  \n",
       "1                                Sooo SAD  negative       train  \n",
       "2                             bullying me  negative       train  \n",
       "3                          leave me alone  negative       train  \n",
       "4                           Sons of ****,  negative       train  \n",
       "...                                   ...       ...         ...  \n",
       "3529                                  NaN  negative  validation  \n",
       "3530                                  NaN  positive  validation  \n",
       "3531                                  NaN  negative  validation  \n",
       "3532                                  NaN  positive  validation  \n",
       "3533                                  NaN  positive  validation  \n",
       "\n",
       "[31015 rows x 5 columns]"
      ]
     },
     "execution_count": 4,
     "metadata": {},
     "output_type": "execute_result"
    }
   ],
   "source": [
    "df"
   ]
  },
  {
   "cell_type": "code",
   "execution_count": 5,
   "id": "0b57b8af",
   "metadata": {},
   "outputs": [],
   "source": [
    "# 1 for positive, 0 for negative, None for neutral\n",
    "df['sentiment_val'] = df['sentiment'].apply(\n",
    "    lambda x: 1 if x == 'positive' else 0 if x == 'negative' else 3\n",
    ")"
   ]
  },
  {
   "cell_type": "code",
   "execution_count": 6,
   "id": "e338790b",
   "metadata": {},
   "outputs": [],
   "source": [
    "# remove text with sentiment as neutral\n",
    "df = df[df['sentiment_val'] != 3]\n",
    "    "
   ]
  },
  {
   "cell_type": "code",
   "execution_count": 7,
   "id": "7e6f31cd",
   "metadata": {},
   "outputs": [
    {
     "data": {
      "text/html": [
       "<div>\n",
       "<style scoped>\n",
       "    .dataframe tbody tr th:only-of-type {\n",
       "        vertical-align: middle;\n",
       "    }\n",
       "\n",
       "    .dataframe tbody tr th {\n",
       "        vertical-align: top;\n",
       "    }\n",
       "\n",
       "    .dataframe thead th {\n",
       "        text-align: right;\n",
       "    }\n",
       "</style>\n",
       "<table border=\"1\" class=\"dataframe\">\n",
       "  <thead>\n",
       "    <tr style=\"text-align: right;\">\n",
       "      <th></th>\n",
       "      <th>textID</th>\n",
       "      <th>text</th>\n",
       "      <th>selected_text</th>\n",
       "      <th>sentiment</th>\n",
       "      <th>index</th>\n",
       "      <th>sentiment_val</th>\n",
       "    </tr>\n",
       "  </thead>\n",
       "  <tbody>\n",
       "    <tr>\n",
       "      <th>1</th>\n",
       "      <td>549e992a42</td>\n",
       "      <td>Sooo SAD I will miss you here in San Diego!!!</td>\n",
       "      <td>Sooo SAD</td>\n",
       "      <td>negative</td>\n",
       "      <td>train</td>\n",
       "      <td>0</td>\n",
       "    </tr>\n",
       "    <tr>\n",
       "      <th>2</th>\n",
       "      <td>088c60f138</td>\n",
       "      <td>my boss is bullying me...</td>\n",
       "      <td>bullying me</td>\n",
       "      <td>negative</td>\n",
       "      <td>train</td>\n",
       "      <td>0</td>\n",
       "    </tr>\n",
       "    <tr>\n",
       "      <th>3</th>\n",
       "      <td>9642c003ef</td>\n",
       "      <td>what interview! leave me alone</td>\n",
       "      <td>leave me alone</td>\n",
       "      <td>negative</td>\n",
       "      <td>train</td>\n",
       "      <td>0</td>\n",
       "    </tr>\n",
       "    <tr>\n",
       "      <th>4</th>\n",
       "      <td>358bd9e861</td>\n",
       "      <td>Sons of ****, why couldn`t they put them on t...</td>\n",
       "      <td>Sons of ****,</td>\n",
       "      <td>negative</td>\n",
       "      <td>train</td>\n",
       "      <td>0</td>\n",
       "    </tr>\n",
       "    <tr>\n",
       "      <th>6</th>\n",
       "      <td>6e0c6d75b1</td>\n",
       "      <td>2am feedings for the baby are fun when he is a...</td>\n",
       "      <td>fun</td>\n",
       "      <td>positive</td>\n",
       "      <td>train</td>\n",
       "      <td>1</td>\n",
       "    </tr>\n",
       "    <tr>\n",
       "      <th>...</th>\n",
       "      <td>...</td>\n",
       "      <td>...</td>\n",
       "      <td>...</td>\n",
       "      <td>...</td>\n",
       "      <td>...</td>\n",
       "      <td>...</td>\n",
       "    </tr>\n",
       "    <tr>\n",
       "      <th>3529</th>\n",
       "      <td>e5f0e6ef4b</td>\n",
       "      <td>its at 3 am, im very tired but i can`t sleep  ...</td>\n",
       "      <td>NaN</td>\n",
       "      <td>negative</td>\n",
       "      <td>validation</td>\n",
       "      <td>0</td>\n",
       "    </tr>\n",
       "    <tr>\n",
       "      <th>3530</th>\n",
       "      <td>416863ce47</td>\n",
       "      <td>All alone in this old house again.  Thanks for...</td>\n",
       "      <td>NaN</td>\n",
       "      <td>positive</td>\n",
       "      <td>validation</td>\n",
       "      <td>1</td>\n",
       "    </tr>\n",
       "    <tr>\n",
       "      <th>3531</th>\n",
       "      <td>6332da480c</td>\n",
       "      <td>I know what you mean. My little dog is sinkin...</td>\n",
       "      <td>NaN</td>\n",
       "      <td>negative</td>\n",
       "      <td>validation</td>\n",
       "      <td>0</td>\n",
       "    </tr>\n",
       "    <tr>\n",
       "      <th>3532</th>\n",
       "      <td>df1baec676</td>\n",
       "      <td>_sutra what is your next youtube video gonna b...</td>\n",
       "      <td>NaN</td>\n",
       "      <td>positive</td>\n",
       "      <td>validation</td>\n",
       "      <td>1</td>\n",
       "    </tr>\n",
       "    <tr>\n",
       "      <th>3533</th>\n",
       "      <td>469e15c5a8</td>\n",
       "      <td>http://twitpic.com/4woj2 - omgssh  ang cute n...</td>\n",
       "      <td>NaN</td>\n",
       "      <td>positive</td>\n",
       "      <td>validation</td>\n",
       "      <td>1</td>\n",
       "    </tr>\n",
       "  </tbody>\n",
       "</table>\n",
       "<p>18467 rows × 6 columns</p>\n",
       "</div>"
      ],
      "text/plain": [
       "          textID                                               text  \\\n",
       "1     549e992a42      Sooo SAD I will miss you here in San Diego!!!   \n",
       "2     088c60f138                          my boss is bullying me...   \n",
       "3     9642c003ef                     what interview! leave me alone   \n",
       "4     358bd9e861   Sons of ****, why couldn`t they put them on t...   \n",
       "6     6e0c6d75b1  2am feedings for the baby are fun when he is a...   \n",
       "...          ...                                                ...   \n",
       "3529  e5f0e6ef4b  its at 3 am, im very tired but i can`t sleep  ...   \n",
       "3530  416863ce47  All alone in this old house again.  Thanks for...   \n",
       "3531  6332da480c   I know what you mean. My little dog is sinkin...   \n",
       "3532  df1baec676  _sutra what is your next youtube video gonna b...   \n",
       "3533  469e15c5a8   http://twitpic.com/4woj2 - omgssh  ang cute n...   \n",
       "\n",
       "       selected_text sentiment       index  sentiment_val  \n",
       "1           Sooo SAD  negative       train              0  \n",
       "2        bullying me  negative       train              0  \n",
       "3     leave me alone  negative       train              0  \n",
       "4      Sons of ****,  negative       train              0  \n",
       "6                fun  positive       train              1  \n",
       "...              ...       ...         ...            ...  \n",
       "3529             NaN  negative  validation              0  \n",
       "3530             NaN  positive  validation              1  \n",
       "3531             NaN  negative  validation              0  \n",
       "3532             NaN  positive  validation              1  \n",
       "3533             NaN  positive  validation              1  \n",
       "\n",
       "[18467 rows x 6 columns]"
      ]
     },
     "execution_count": 7,
     "metadata": {},
     "output_type": "execute_result"
    }
   ],
   "source": [
    "df"
   ]
  },
  {
   "cell_type": "code",
   "execution_count": 8,
   "id": "1df48052",
   "metadata": {},
   "outputs": [],
   "source": [
    "nlp = spacy.load('en_core_web_sm')"
   ]
  },
  {
   "cell_type": "code",
   "execution_count": 9,
   "id": "b89aac93",
   "metadata": {},
   "outputs": [],
   "source": [
    "# Convert the \"text\" column in the DataFrame to string data type\n",
    "df[\"text\"] = df[\"text\"].astype(str)\n",
    "\n",
    "# Apply lemmatization to the \"text\" column using SpaCy library\n",
    "df[\"text\"] = df['text'].apply(lambda x: \" \".join([y.lemma_ for y in nlp(x) if not y.is_stop]))\n",
    "\n",
    "# Convert all characters in the \"text\" column to lowercase\n",
    "df['text'] = df['text'].apply(lambda x: x.lower())\n",
    "\n",
    "# Remove all non-word and non-space characters from the \"text\" column using regular expression\n",
    "df['text'] = df['text'].apply((lambda x: re.sub('[^\\w\\s]','',x)))\n"
   ]
  },
  {
   "cell_type": "code",
   "execution_count": 10,
   "id": "c5899c8c",
   "metadata": {},
   "outputs": [],
   "source": [
    "# Define the maximum number of features to keep in the tokenizer\n",
    "max_features = 3000\n",
    "\n",
    "# Initialize a tokenizer with the specified number of words to keep\n",
    "tokenizer = Tokenizer(num_words=max_features, split=' ')\n",
    "\n",
    "# Fit the tokenizer on the \"text\" column values in the DataFrame\n",
    "tokenizer.fit_on_texts(df['text'].values)"
   ]
  },
  {
   "cell_type": "code",
   "execution_count": 11,
   "id": "33ecceb8",
   "metadata": {},
   "outputs": [],
   "source": [
    "# Filter the DataFrame to create separate training and validation DataFrames\n",
    "df_train = df[df[\"index\"].eq(\"train\")]\n",
    "df_val = df[df[\"index\"].eq(\"validation\")]"
   ]
  },
  {
   "cell_type": "code",
   "execution_count": 12,
   "id": "c7c1fa4a",
   "metadata": {},
   "outputs": [],
   "source": [
    "# Convert the text data in the \"text\" column of df_train DataFrame into sequences of integers\n",
    "X_train = tokenizer.texts_to_sequences(df_train['text'].values)\n",
    "\n",
    "# Pad the sequences to ensure they all have the same length\n",
    "X_train = pad_sequences(X_train)\n",
    "\n",
    "# Convert the text data in the \"text\" column of df_val DataFrame into sequences of integers\n",
    "X_val = tokenizer.texts_to_sequences(df_val['text'].values)\n",
    "\n",
    "# Pad the sequences to ensure they all have the same length\n",
    "X_val = pad_sequences(X_val)"
   ]
  },
  {
   "cell_type": "code",
   "execution_count": 13,
   "id": "a8464591",
   "metadata": {},
   "outputs": [
    {
     "data": {
      "text/plain": [
       "[(16363, 20), (2104, 18)]"
      ]
     },
     "execution_count": 13,
     "metadata": {},
     "output_type": "execute_result"
    }
   ],
   "source": [
    "[X_train.shape,X_val.shape]"
   ]
  },
  {
   "cell_type": "code",
   "execution_count": 14,
   "id": "d6fca620",
   "metadata": {},
   "outputs": [
    {
     "data": {
      "text/plain": [
       "(2104, 20)"
      ]
     },
     "execution_count": 14,
     "metadata": {},
     "output_type": "execute_result"
    }
   ],
   "source": [
    "# Pad the sequences in X_val with zeros to match the length of sequences in X_train\n",
    "X_val = np.lib.pad(X_val, ((0,0),(X_train.shape[1] - X_val.shape[1],0)), 'constant', constant_values=(0))\n",
    "\n",
    "# Check the shape of X_val after padding\n",
    "print(X_val.shape)"
   ]
  },
  {
   "cell_type": "code",
   "execution_count": 15,
   "id": "66c68a21",
   "metadata": {},
   "outputs": [],
   "source": [
    "# Convert the sentiment labels in df_train and df_val to one-hot encoded vectors\n",
    "Y_train = np.array(pd.get_dummies((df_train['sentiment']).values))\n",
    "Y_val = np.array(pd.get_dummies((df_val['sentiment']).values))"
   ]
  },
  {
   "cell_type": "markdown",
   "id": "31cc3403",
   "metadata": {},
   "source": [
    "## Model Building"
   ]
  },
  {
   "cell_type": "code",
   "execution_count": 16,
   "id": "2bed3229",
   "metadata": {},
   "outputs": [],
   "source": [
    "# Set the maximum number of features (words) to consider in the embedding\n",
    "max_features = 3000\n",
    "\n",
    "# Set the embedding dimension\n",
    "embed_dim = 128\n",
    "\n",
    "# Create a sequential model\n",
    "model = Sequential()\n",
    "\n",
    "# Add an embedding layer to the model\n",
    "# The embedding layer converts the input sequence of word indices into dense vectors of fixed size\n",
    "# The max_features parameter specifies the size of the vocabulary (i.e., the maximum number of words to consider)\n",
    "# The embed_dim parameter specifies the size of the output embedding vectors\n",
    "# The input_length parameter specifies the length of the input sequences (i.e., the number of words in each input sequence)\n",
    "model.add(Embedding(max_features, embed_dim, input_length=X_train.shape[1]))"
   ]
  },
  {
   "cell_type": "code",
   "execution_count": 17,
   "id": "16235e58",
   "metadata": {},
   "outputs": [],
   "source": [
    "model.add(SpatialDropout1D(0.3))"
   ]
  },
  {
   "cell_type": "code",
   "execution_count": 18,
   "id": "65eb6867",
   "metadata": {},
   "outputs": [],
   "source": [
    "lstm_out = 256\n",
    "model.add(LSTM(lstm_out, dropout=0.5, recurrent_dropout=0.5))"
   ]
  },
  {
   "cell_type": "code",
   "execution_count": 19,
   "id": "fbb8a62d",
   "metadata": {},
   "outputs": [
    {
     "name": "stdout",
     "output_type": "stream",
     "text": [
      "Model: \"sequential\"\n",
      "_________________________________________________________________\n",
      " Layer (type)                Output Shape              Param #   \n",
      "=================================================================\n",
      " embedding (Embedding)       (None, 20, 128)           384000    \n",
      "                                                                 \n",
      " spatial_dropout1d (SpatialD  (None, 20, 128)          0         \n",
      " ropout1D)                                                       \n",
      "                                                                 \n",
      " lstm (LSTM)                 (None, 256)               394240    \n",
      "                                                                 \n",
      " dense (Dense)               (None, 2)                 514       \n",
      "                                                                 \n",
      "=================================================================\n",
      "Total params: 778,754\n",
      "Trainable params: 778,754\n",
      "Non-trainable params: 0\n",
      "_________________________________________________________________\n",
      "None\n"
     ]
    }
   ],
   "source": [
    "model.add(Dense(2,activation='sigmoid'))\n",
    "model.compile(loss = 'categorical_crossentropy', optimizer='adam',metrics = ['accuracy'])\n",
    "print(model.summary())"
   ]
  },
  {
   "cell_type": "markdown",
   "id": "894f65ea",
   "metadata": {},
   "source": [
    "## Model Training"
   ]
  },
  {
   "cell_type": "code",
   "execution_count": 20,
   "id": "74e44b65",
   "metadata": {},
   "outputs": [
    {
     "name": "stdout",
     "output_type": "stream",
     "text": [
      "Epoch 1/20\n",
      "512/512 - 34s - loss: 0.4037 - accuracy: 0.8076 - 34s/epoch - 67ms/step\n",
      "Epoch 2/20\n",
      "512/512 - 36s - loss: 0.2845 - accuracy: 0.8812 - 36s/epoch - 70ms/step\n",
      "Epoch 3/20\n",
      "512/512 - 39s - loss: 0.2535 - accuracy: 0.8957 - 39s/epoch - 76ms/step\n",
      "Epoch 4/20\n",
      "512/512 - 39s - loss: 0.2300 - accuracy: 0.9083 - 39s/epoch - 77ms/step\n",
      "Epoch 5/20\n",
      "512/512 - 26s - loss: 0.2089 - accuracy: 0.9162 - 26s/epoch - 51ms/step\n",
      "Epoch 6/20\n",
      "512/512 - 32s - loss: 0.1938 - accuracy: 0.9231 - 32s/epoch - 63ms/step\n",
      "Epoch 7/20\n",
      "512/512 - 31s - loss: 0.1793 - accuracy: 0.9300 - 31s/epoch - 61ms/step\n",
      "Epoch 8/20\n",
      "512/512 - 36s - loss: 0.1653 - accuracy: 0.9337 - 36s/epoch - 70ms/step\n",
      "Epoch 9/20\n",
      "512/512 - 35s - loss: 0.1533 - accuracy: 0.9389 - 35s/epoch - 67ms/step\n",
      "Epoch 10/20\n",
      "512/512 - 35s - loss: 0.1386 - accuracy: 0.9461 - 35s/epoch - 68ms/step\n",
      "Epoch 11/20\n",
      "512/512 - 38s - loss: 0.1349 - accuracy: 0.9451 - 38s/epoch - 74ms/step\n",
      "Epoch 12/20\n",
      "512/512 - 38s - loss: 0.1224 - accuracy: 0.9508 - 38s/epoch - 74ms/step\n",
      "Epoch 13/20\n",
      "512/512 - 35s - loss: 0.1150 - accuracy: 0.9537 - 35s/epoch - 68ms/step\n",
      "Epoch 14/20\n",
      "512/512 - 34s - loss: 0.1067 - accuracy: 0.9562 - 34s/epoch - 66ms/step\n",
      "Epoch 15/20\n",
      "512/512 - 31s - loss: 0.1004 - accuracy: 0.9587 - 31s/epoch - 60ms/step\n",
      "Epoch 16/20\n",
      "512/512 - 40s - loss: 0.0957 - accuracy: 0.9607 - 40s/epoch - 79ms/step\n",
      "Epoch 17/20\n",
      "512/512 - 37s - loss: 0.0899 - accuracy: 0.9644 - 37s/epoch - 72ms/step\n",
      "Epoch 18/20\n",
      "512/512 - 39s - loss: 0.0838 - accuracy: 0.9640 - 39s/epoch - 76ms/step\n",
      "Epoch 19/20\n",
      "512/512 - 27s - loss: 0.0794 - accuracy: 0.9686 - 27s/epoch - 53ms/step\n",
      "Epoch 20/20\n",
      "512/512 - 34s - loss: 0.0760 - accuracy: 0.9696 - 34s/epoch - 66ms/step\n"
     ]
    },
    {
     "data": {
      "text/plain": [
       "<keras.callbacks.History at 0x7fb4d4745fd0>"
      ]
     },
     "execution_count": 20,
     "metadata": {},
     "output_type": "execute_result"
    }
   ],
   "source": [
    "batch_size = 32\n",
    "model.fit(X_train, Y_train, epochs = 20, batch_size=batch_size, verbose = 2, shuffle=False)"
   ]
  },
  {
   "cell_type": "markdown",
   "id": "1417f900",
   "metadata": {},
   "source": [
    "## Model Testing"
   ]
  },
  {
   "cell_type": "code",
   "execution_count": 21,
   "id": "dd2dcdb2",
   "metadata": {},
   "outputs": [],
   "source": [
    "def evaluate_lstm(model, X_test, Y_test):\n",
    "    # Initialize counters for positive and negative samples and correct predictions\n",
    "    pos_cnt, neg_cnt, pos_correct, neg_correct = 0, 0, 0, 0\n",
    "    # Create an empty list to store the predicted labels\n",
    "    results = []\n",
    "    \n",
    "    # Iterate through each sample in X_test\n",
    "    for x in range(len(X_test)):\n",
    "        # Make a prediction using the trained LSTM model\n",
    "        result = model.predict(X_test[x].reshape(1, X_test.shape[1]),\n",
    "                               batch_size=1, verbose=3)[0]\n",
    "        # Compare the predicted label with the true label to update counts of correct predictions\n",
    "        if np.argmax(result) == np.argmax(Y_test[x]):\n",
    "            if np.argmax(Y_test[x]) == 0:\n",
    "                neg_correct += 1\n",
    "            else:\n",
    "                pos_correct += 1\n",
    "\n",
    "        # Update counts of positive and negative samples\n",
    "        if np.argmax(Y_test[x]) == 0:\n",
    "            neg_cnt += 1\n",
    "        else:\n",
    "            pos_cnt += 1\n",
    "        # Append the predicted label to the results list\n",
    "        results.append(np.argmax(result))\n",
    "\n",
    "    # Convert true labels to a column vector and convert results to a NumPy array and reshape it\n",
    "    Y_test_argmax = np.argmax(Y_test, axis=1)\n",
    "    Y_test_argmax = Y_test_argmax.reshape(-1, 1)\n",
    "    results = np.asarray(results)\n",
    "    results = results.reshape(-1, 1)\n",
    "\n",
    "    # Calculate confusion matrix\n",
    "    conf_matrix = confusion_matrix(Y_test_argmax, results)\n",
    "    # Create a heatmap of the confusion matrix using Seaborn\n",
    "    fig = plt.figure(figsize=(6, 6))\n",
    "    sns.heatmap(conf_matrix, annot=True, fmt=\"d\", cmap='GnBu')\n",
    "    plt.title(\"Confusion Matrix\")\n",
    "    plt.ylabel('Correct Class')\n",
    "    plt.xlabel('Predicted class')\n",
    "\n",
    "    # Calculate accuracy and F1 score\n",
    "    accuracy = (pos_correct + neg_correct) / (pos_cnt + neg_cnt)\n",
    "    f1 = 2 * (pos_correct) / (2 * pos_correct + pos_cnt - pos_correct + neg_cnt - neg_correct)\n",
    "\n",
    "    # Return accuracy, F1 score, and the confusion matrix figure\n",
    "    return accuracy, f1, fig"
   ]
  },
  {
   "cell_type": "code",
   "execution_count": 22,
   "id": "3dca0f49",
   "metadata": {},
   "outputs": [
    {
     "name": "stdout",
     "output_type": "stream",
     "text": [
      "Accuracy: 0.861\n",
      "F1 Score: 0.869\n"
     ]
    },
    {
     "data": {
      "image/png": "[encoded data removed]",
      "text/plain": [
       "<Figure size 600x600 with 2 Axes>"
      ]
     },
     "metadata": {},
     "output_type": "display_data"
    }
   ],
   "source": [
    "# Call the function with the model, X_val, and Y_val, and print the results\n",
    "accuracy, f1, fig = evaluate_lstm(model, X_val, Y_val)\n",
    "print(f'Accuracy: {accuracy:.3f}')\n",
    "print(f'F1 Score: {f1:.3f}')"
   ]
  },
  {
   "cell_type": "code",
   "execution_count": null,
   "id": "b8ca2913",
   "metadata": {},
   "outputs": [],
   "source": []
  }
 ],
 "metadata": {
  "kernelspec": {
   "display_name": "Python 3 (ipykernel)",
   "language": "python",
   "name": "python3"
  },
  "language_info": {
   "codemirror_mode": {
    "name": "ipython",
    "version": 3
   },
   "file_extension": ".py",
   "mimetype": "text/x-python",
   "name": "python",
   "nbconvert_exporter": "python",
   "pygments_lexer": "ipython3",
   "version": "3.8.10"
  }
 },
 "nbformat": 4,
 "nbformat_minor": 5
}
